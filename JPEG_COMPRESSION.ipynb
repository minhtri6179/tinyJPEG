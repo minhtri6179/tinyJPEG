{
  "cells": [
    {
      "cell_type": "markdown",
      "metadata": {
        "id": "_5jJC7qtY_HC"
      },
      "source": [
        "# JPEG COMPRESSION ALGORITHM\n",
        "\n",
        "### THÀNH VIÊN NHÓM\n",
        "|MSSV|HỌ VÀ TÊN|\n",
        "|---|---|\n",
        "|19127003|NGUYỄN HỮU ĐẠT|\n",
        "|19127472|NGUYỄN BÁ MINH|\n",
        "|19127481|TRẦN HOÀNG NAM|\n",
        "|19127595|NGUYỄN MINH TRÍ|\n"
      ]
    },
    {
      "cell_type": "markdown",
      "metadata": {
        "id": "CZKB2pdeaLkz"
      },
      "source": [
        "### GIỚI THIỆU ĐỒ ÁN\n",
        "- File JPEG (hay File Joint Photographic Experts Group) là một loại định dạng hình ảnh được lưu bằng phương pháp lossy compression (nén có mất mát dữ liệu).Trong đó, hình ảnh đầu ra là kết quả của quá trình nén, là sự cân bằng giữa kích thước lưu trữ và chất lượng hình ảnh. Hơn [70% website](https://w3techs.com/technologies/details/im-jpeg) trên thế giới sử dụng ảnh có định dạng JPEG để lưu trữ\n",
        "- Smartphone và camera sử dụng JPEG để lưu trữ\n",
        "- Thuật toán nén video h.264 được sử dụng trên youtube sử dụng kỹ thuật nén tương tự JPEG\n",
        "- Các thuật toán nén như JPEG giúp giảm thiểu chi phí lưu trữ, cũng như giảm thời gian khi gửi qua internet\n",
        "\n",
        "Phía dưới là một pipeline của thuật toán nén JPEG Compression"
      ]
    },
    {
      "cell_type": "markdown",
      "metadata": {
        "id": "l_NCt7m_I-kd"
      },
      "source": [
        "  <img src=\"https://raw.githubusercontent.com/minhtri6179/tinyJPEG/main/images/pipeline.png\"\n",
        "     width=\"800\"\n",
        "     height=\"500\" />"
      ]
    },
    {
      "cell_type": "markdown",
      "metadata": {
        "id": "0WAp9qrcJHHp"
      },
      "source": [
        "#### Mục tiêu của đồ án:\n",
        "- Hiểu được cách hoạt động của thuật toán JPEG compression tuần tự: 50%\n",
        "- Củng cố lại kiến thức về song song hoá trên GPU thông qua việc tối ưu hoá thuật toán bằng xử lý song song : 50%\n",
        "  - Color transform: 10%\n",
        "  - Down sampling: 10%\n",
        "  - Forward DCT: 10%\n",
        "  - Quantization: 10%\n",
        "  - Encoding và compressed data: 10%\n",
        "\n",
        "#### Các thách thức\n",
        "- Học cách song song hoá bằng ngôn ngữ python\n",
        "- Kiến thức mới về Discrete cosin transform (DCT),Quantization, mã hoá huffman\n",
        "- Một vài bước trong thuật toán không thể song song hoàn toàn mà là song song một cách tuần tự"
      ]
    },
    {
      "cell_type": "code",
      "execution_count": 1,
      "metadata": {
        "id": "wI46EtNyR26U"
      },
      "outputs": [],
      "source": [
        "import numpy as np\n",
        "import numba as nb\n",
        "from numba import jit,prange,cuda\n",
        "from PIL import Image\n",
        "import cv2\n",
        "import math"
      ]
    },
    {
      "cell_type": "code",
      "execution_count": 2,
      "metadata": {
        "colab": {
          "base_uri": "https://localhost:8080/"
        },
        "id": "1yXV70tvpQdx",
        "outputId": "f1f78e0c-7735-4156-a8d9-d12f0863d068"
      },
      "outputs": [
        {
          "output_type": "stream",
          "name": "stdout",
          "text": [
            "Thiết bị GPU có ID: 0\n"
          ]
        }
      ],
      "source": [
        "devices = nb.cuda.list_devices()\n",
        "for device in devices:\n",
        "        print(\"Thiết bị GPU có ID:\", device.id)"
      ]
    },
    {
      "cell_type": "code",
      "execution_count": 3,
      "metadata": {
        "colab": {
          "base_uri": "https://localhost:8080/"
        },
        "id": "kSzaQvaFpFPy",
        "outputId": "a7af7a9a-60a4-45df-94ba-b3452d3e0a64"
      },
      "outputs": [
        {
          "output_type": "execute_result",
          "data": {
            "text/plain": [
              "<weakproxy at 0x7d97683e3fb0 to Device at 0x7d9792b17580>"
            ]
          },
          "metadata": {},
          "execution_count": 3
        }
      ],
      "source": [
        "selected_device = 0\n",
        "nb.cuda.select_device(selected_device)"
      ]
    },
    {
      "cell_type": "markdown",
      "metadata": {
        "id": "TMH-MDsj-mtF"
      },
      "source": [
        "# NỘI DUNG"
      ]
    },
    {
      "cell_type": "markdown",
      "metadata": {
        "id": "3TmnnkUOyQai"
      },
      "source": [
        "##### LOAD ẢNH"
      ]
    },
    {
      "cell_type": "code",
      "source": [
        "%%capture\n",
        "! wget https://github.com/minhtri6179/tinyJPEG/raw/main/input_image/img.bmp"
      ],
      "metadata": {
        "id": "amplgl8PgiWo"
      },
      "execution_count": 4,
      "outputs": []
    },
    {
      "cell_type": "code",
      "execution_count": 5,
      "metadata": {
        "colab": {
          "base_uri": "https://localhost:8080/"
        },
        "id": "O_Z_7lvDgDdj",
        "outputId": "a87a34b6-e82a-4465-d04f-b862f557f1eb"
      },
      "outputs": [
        {
          "output_type": "stream",
          "name": "stdout",
          "text": [
            "3456 5184\n"
          ]
        }
      ],
      "source": [
        "img = Image.open('img.bmp')\n",
        "arr = np.array(img)\n",
        "(height, width, _) = arr.shape\n",
        "print(height,width)"
      ]
    },
    {
      "cell_type": "code",
      "source": [
        "def row_column_padding(image):\n",
        "    height, width,RGB = image.shape\n",
        "\n",
        "    # Tính toán kích thước ma trận mới sau padding\n",
        "    padded_height = int(np.ceil(height / 8)) * 8\n",
        "    padded_width = int(np.ceil(width / 8)) * 8\n",
        "\n",
        "    # Tạo ma trận mới với kích thước sau padding và gán giá trị từ ma trận ban đầu\n",
        "    padded_image = np.zeros((padded_height, padded_width,RGB))\n",
        "    padded_image[:height, :width,:] = image\n",
        "    padded_image[height:, :,:] = padded_image[height-1:height, :,:]\n",
        "    padded_image[:, width:,:] = padded_image[:, width-1:width,:]\n",
        "\n",
        "    return padded_image"
      ],
      "metadata": {
        "id": "ntlG6KC5gdZC"
      },
      "execution_count": 6,
      "outputs": []
    },
    {
      "cell_type": "code",
      "source": [
        "def row_column_padding_matrix(image):\n",
        "    height, width = image.shape\n",
        "\n",
        "    # Tính toán kích thước ma trận mới sau padding\n",
        "    padded_height = int(np.ceil(height / 8)) * 8\n",
        "    padded_width = int(np.ceil(width / 8)) * 8\n",
        "\n",
        "    # Tạo ma trận mới với kích thước sau padding và gán giá trị từ ma trận ban đầu\n",
        "    padded_image = np.zeros((padded_height, padded_width))\n",
        "    padded_image[:height, :width] = image\n",
        "    padded_image[height:, :] = padded_image[height-1:height, :]\n",
        "    padded_image[:, width:] = padded_image[:, width-1:width]\n",
        "\n",
        "    return padded_image"
      ],
      "metadata": {
        "id": "RPxGQYgQgfhy"
      },
      "execution_count": 7,
      "outputs": []
    },
    {
      "cell_type": "code",
      "source": [
        "arr = row_column_padding(arr)\n",
        "(height, width, _) = arr.shape"
      ],
      "metadata": {
        "id": "vfbhDjEmghF6"
      },
      "execution_count": 8,
      "outputs": []
    },
    {
      "cell_type": "markdown",
      "metadata": {
        "id": "HuqgpFOLyV-M"
      },
      "source": [
        "#### CHUYỂN TỪ KÊNH MÀU RGB SANG KÊNH MÀU *YCbCr*"
      ]
    },
    {
      "cell_type": "code",
      "execution_count": null,
      "metadata": {
        "id": "4eRMdMrwgDdj"
      },
      "outputs": [],
      "source": []
    },
    {
      "cell_type": "markdown",
      "metadata": {
        "id": "sxGC2q25zyxL"
      },
      "source": [
        "#### GIẢM KÍCH THƯỚC KÊNH MÀU CHROMINANCE"
      ]
    },
    {
      "cell_type": "code",
      "execution_count": null,
      "metadata": {
        "id": "IyNPOH2_gDdj"
      },
      "outputs": [],
      "source": []
    },
    {
      "cell_type": "markdown",
      "metadata": {
        "id": "HION8EwW5EJ2"
      },
      "source": [
        "#### DISCRETE COSINE TRANSFORM"
      ]
    },
    {
      "cell_type": "code",
      "execution_count": null,
      "metadata": {
        "id": "rQSdxU0sgDdj"
      },
      "outputs": [],
      "source": []
    },
    {
      "cell_type": "markdown",
      "metadata": {
        "id": "GeuUuJld-c6f"
      },
      "source": [
        "#### QUANTIZATION"
      ]
    },
    {
      "cell_type": "code",
      "execution_count": null,
      "metadata": {
        "id": "5v4fefKQgDdk"
      },
      "outputs": [],
      "source": []
    },
    {
      "cell_type": "markdown",
      "metadata": {
        "id": "cD-RuD6dwn8m"
      },
      "source": [
        "## ZIGZAG SCANNING"
      ]
    },
    {
      "cell_type": "code",
      "execution_count": null,
      "metadata": {
        "id": "3YgRST4jgDdk"
      },
      "outputs": [],
      "source": []
    },
    {
      "cell_type": "markdown",
      "metadata": {
        "id": "nUOGVqq7vVnJ"
      },
      "source": [
        "## RUN LENGTH ENCODING"
      ]
    },
    {
      "cell_type": "code",
      "execution_count": null,
      "metadata": {
        "id": "fiPgy_i8gDdk"
      },
      "outputs": [],
      "source": []
    },
    {
      "cell_type": "markdown",
      "metadata": {
        "id": "Klbxo08v0pDi"
      },
      "source": [
        "## HUFFMAN ENCODING"
      ]
    },
    {
      "cell_type": "code",
      "execution_count": null,
      "metadata": {
        "id": "upYlAMHpgDdk"
      },
      "outputs": [],
      "source": []
    },
    {
      "cell_type": "markdown",
      "metadata": {
        "id": "VGvoYGglwWUX"
      },
      "source": [
        "# THAM KHẢO"
      ]
    },
    {
      "cell_type": "markdown",
      "metadata": {
        "id": "IwYH5He4gDdk"
      },
      "source": []
    }
  ],
  "metadata": {
    "accelerator": "GPU",
    "colab": {
      "provenance": []
    },
    "kernelspec": {
      "display_name": "Python 3",
      "name": "python3"
    },
    "language_info": {
      "codemirror_mode": {
        "name": "ipython",
        "version": 3
      },
      "file_extension": ".py",
      "mimetype": "text/x-python",
      "name": "python",
      "nbconvert_exporter": "python",
      "pygments_lexer": "ipython3",
      "version": "3.11.4"
    }
  },
  "nbformat": 4,
  "nbformat_minor": 0
}